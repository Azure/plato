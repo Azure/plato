{
  "cells": [
    {
      "cell_type": "code",
      "execution_count": 34,
      "metadata": {
        "gather": {
          "logged": 1692217913438
        }
      },
      "outputs": [
        {
          "name": "stdout",
          "output_type": "stream",
          "text": [
            "jazmiaazureml | bonsai-jazmia\n"
          ]
        }
      ],
      "source": [
        "from azure.identity import DefaultAzureCredential\n",
        "from azure.ai.ml import MLClient, command\n",
        "from azure.ai.ml.entities import Environment\n",
        "\n",
        "ws = Workspace.from_config()\n",
        "print(ws.name, ws.resource_group, sep = ' | ')"
      ]
    },
    {
      "cell_type": "code",
      "execution_count": 35,
      "metadata": {
        "gather": {
          "logged": 1692217917433
        },
        "jupyter": {
          "outputs_hidden": false,
          "source_hidden": false
        },
        "nteract": {
          "transient": {
            "deleting": false
          }
        }
      },
      "outputs": [],
      "source": [
        "env = Environment(\n",
        "        image= \"$registryname.azurecr.io/$containername\", #change to your ACR image\n",
        "        name= \"windows_env\")"
      ]
    },
    {
      "cell_type": "code",
      "execution_count": 36,
      "metadata": {
        "gather": {
          "logged": 1692217925044
        },
        "jupyter": {
          "outputs_hidden": false,
          "source_hidden": false
        },
        "nteract": {
          "transient": {
            "deleting": false
          }
        }
      },
      "outputs": [],
      "source": [
        "job = command(\n",
        "    command=\"dir\",\n",
        "    environment=env,\n",
        "    compute=\"win-compute\",\n",
        "    environment_variables={\n",
        "        \"AZUREML_COMPUTE_USE_COMMON_RUNTIME\": \"true\"\n",
        "    },    \n",
        ")"
      ]
    },
    {
      "cell_type": "code",
      "execution_count": 37,
      "metadata": {
        "gather": {
          "logged": 1692217929980
        },
        "jupyter": {
          "outputs_hidden": false,
          "source_hidden": false
        },
        "nteract": {
          "transient": {
            "deleting": false
          }
        }
      },
      "outputs": [],
      "source": [
        "ml_client = MLClient(\n",
        "    DefaultAzureCredential(), ws.subscription_id, ws.resource_group, ws.name\n",
        ")"
      ]
    },
    {
      "cell_type": "code",
      "execution_count": 38,
      "metadata": {
        "gather": {
          "logged": 1692217936053
        },
        "jupyter": {
          "outputs_hidden": false,
          "source_hidden": false
        },
        "nteract": {
          "transient": {
            "deleting": false
          }
        }
      },
      "outputs": [
        {
          "name": "stderr",
          "output_type": "stream",
          "text": [
            "Warning: the provided asset name 'windows_env' will not be used for anonymous registration\n",
            "Warning: the provided asset name 'windows_env' will not be used for anonymous registration\n"
          ]
        },
        {
          "data": {
            "text/html": [
              "<table style=\"width:100%\"><tr><th>Experiment</th><th>Name</th><th>Type</th><th>Status</th><th>Details Page</th></tr><tr><td>windows_poc</td><td>icy_carrot_d46qgfjx5b</td><td>command</td><td>Starting</td><td><a href=\"https://ml.azure.com/runs/icy_carrot_d46qgfjx5b?wsid=/subscriptions/96620149-9f19-4092-bd26-dce08f1c15e5/resourcegroups/bonsai-jazmia/workspaces/jazmiaazureml&amp;tid=72f988bf-86f1-41af-91ab-2d7cd011db47\" target=\"_blank\" rel=\"noopener\">Link to Azure Machine Learning studio</a></td></tr></table>"
            ],
            "text/plain": [
              "Command({'parameters': {}, 'init': False, 'name': 'icy_carrot_d46qgfjx5b', 'type': 'command', 'status': 'Starting', 'log_files': None, 'description': None, 'tags': {}, 'properties': {'_azureml.ComputeTargetType': 'amlctrain'}, 'print_as_yaml': True, 'id': '/subscriptions/96620149-9f19-4092-bd26-dce08f1c15e5/resourceGroups/bonsai-jazmia/providers/Microsoft.MachineLearningServices/workspaces/jazmiaazureml/jobs/icy_carrot_d46qgfjx5b', 'Resource__source_path': None, 'base_path': '/mnt/batch/tasks/shared/LS_root/mounts/clusters/jazmiahenry2/code/Users/jazmiahenry/windows_poc', 'creation_context': <azure.ai.ml.entities._system_data.SystemData object at 0x7fc02e9d7eb0>, 'serialize': <msrest.serialization.Serializer object at 0x7fc02c7fcb80>, 'allowed_keys': {}, 'key_restriction': False, 'logger': <Logger attr_dict (WARNING)>, 'display_name': 'icy_carrot_d46qgfjx5b', 'experiment_name': 'windows_poc', 'compute': 'win-compute', 'services': {'Tracking': {'endpoint': 'azureml://eastus.api.azureml.ms/mlflow/v1.0/subscriptions/96620149-9f19-4092-bd26-dce08f1c15e5/resourceGroups/bonsai-jazmia/providers/Microsoft.MachineLearningServices/workspaces/jazmiaazureml?', 'type': 'Tracking'}, 'Studio': {'endpoint': 'https://ml.azure.com/runs/icy_carrot_d46qgfjx5b?wsid=/subscriptions/96620149-9f19-4092-bd26-dce08f1c15e5/resourcegroups/bonsai-jazmia/workspaces/jazmiaazureml&tid=72f988bf-86f1-41af-91ab-2d7cd011db47', 'type': 'Studio'}}, 'comment': None, 'job_inputs': {}, 'job_outputs': {'default': {'type': 'uri_folder', 'path': 'azureml://datastores/workspaceartifactstore/ExperimentRun/dcid.icy_carrot_d46qgfjx5b', 'mode': 'rw_mount'}}, 'inputs': {}, 'outputs': {'default': <azure.ai.ml.entities._job.pipeline._io.base.NodeOutput object at 0x7fc02c7fc5b0>}, 'component': CommandComponent({'intellectual_property': None, 'auto_increment_version': True, 'source': 'REMOTE.WORKSPACE.JOB', 'is_anonymous': False, 'auto_delete_setting': None, 'name': 'icy_carrot_d46qgfjx5b', 'description': None, 'tags': {}, 'properties': {}, 'print_as_yaml': True, 'id': None, 'Resource__source_path': None, 'base_path': PosixPath('.'), 'creation_context': <azure.ai.ml.entities._system_data.SystemData object at 0x7fc02e9d7eb0>, 'serialize': <msrest.serialization.Serializer object at 0x7fc02c7fd630>, 'command': 'dir', 'code': None, 'environment_variables': {'AZUREML_COMPUTE_USE_COMMON_RUNTIME': 'true'}, 'environment': '/subscriptions/96620149-9f19-4092-bd26-dce08f1c15e5/resourceGroups/bonsai-jazmia/providers/Microsoft.MachineLearningServices/workspaces/jazmiaazureml/environments/windows_env/versions/2', 'distribution': None, 'resources': None, 'queue_settings': None, 'version': None, 'latest_version': None, 'schema': None, 'type': 'command', 'display_name': 'icy_carrot_d46qgfjx5b', 'is_deterministic': True, 'inputs': {}, 'outputs': {'default': {'type': 'uri_folder', 'path': 'azureml://datastores/workspaceartifactstore/ExperimentRun/dcid.icy_carrot_d46qgfjx5b', 'mode': 'rw_mount'}}, 'yaml_str': None, 'other_parameter': {'status': 'Starting', 'parameters': {}}, 'additional_includes': [], 'CommandComponent__additional_includes_obj': None}), 'referenced_control_flow_node_instance_id': None, 'kwargs': {'services': {'Tracking': {'endpoint': 'azureml://eastus.api.azureml.ms/mlflow/v1.0/subscriptions/96620149-9f19-4092-bd26-dce08f1c15e5/resourceGroups/bonsai-jazmia/providers/Microsoft.MachineLearningServices/workspaces/jazmiaazureml?', 'type': 'Tracking'}, 'Studio': {'endpoint': 'https://ml.azure.com/runs/icy_carrot_d46qgfjx5b?wsid=/subscriptions/96620149-9f19-4092-bd26-dce08f1c15e5/resourcegroups/bonsai-jazmia/workspaces/jazmiaazureml&tid=72f988bf-86f1-41af-91ab-2d7cd011db47', 'type': 'Studio'}}, 'status': 'Starting', 'creation_context': <azure.ai.ml.entities._system_data.SystemData object at 0x7fc02e9d7eb0>}, 'instance_id': '6f93dd93-5b91-47f0-924a-571b26b65d33', 'source': 'BUILDER', 'validate_required_input_not_provided': True, 'limits': None, 'identity': None, 'distribution': None, 'environment_variables': {'AZUREML_COMPUTE_USE_COMMON_RUNTIME': 'true'}, 'environment': 'windows_env:2', 'resources': {'instance_count': 1, 'shm_size': '2g'}, 'queue_settings': None, 'swept': False})"
            ]
          },
          "execution_count": 38,
          "metadata": {},
          "output_type": "execute_result"
        }
      ],
      "source": [
        "created_job = ml_client.create_or_update(job)\n",
        "\n",
        "created_job"
      ]
    }
  ],
  "metadata": {
    "kernelspec": {
      "display_name": "Python 3.10 - SDK v2",
      "language": "python",
      "name": "python310-sdkv2"
    },
    "language_info": {
      "codemirror_mode": {
        "name": "ipython",
        "version": 3
      },
      "file_extension": ".py",
      "mimetype": "text/x-python",
      "name": "python",
      "nbconvert_exporter": "python",
      "pygments_lexer": "ipython3",
      "version": "3.10.11"
    },
    "microsoft": {
      "host": {
        "AzureML": {
          "notebookHasBeenCompleted": true
        }
      },
      "ms_spell_check": {
        "ms_spell_check_language": "en"
      }
    },
    "nteract": {
      "version": "nteract-front-end@1.0.0"
    }
  },
  "nbformat": 4,
  "nbformat_minor": 2
}
