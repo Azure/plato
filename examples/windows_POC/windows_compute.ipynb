{
  "cells": [
    {
      "cell_type": "code",
      "execution_count": 3,
      "metadata": {
        "gather": {
          "logged": 1689702069840
        }
      },
      "outputs": [
        {
          "name": "stdout",
          "output_type": "stream",
          "text": [
            "InProgress..\n",
            "SucceededProvisioning operation finished, operation \"Succeeded\"\n",
            "Succeeded\n",
            "AmlCompute wait for completion finished\n",
            "\n",
            "Minimum number of nodes requested have been provisioned\n",
            "{'currentNodeCount': 0, 'targetNodeCount': 0, 'nodeStateCounts': {'preparingNodeCount': 0, 'runningNodeCount': 0, 'idleNodeCount': 0, 'unusableNodeCount': 0, 'leavingNodeCount': 0, 'preemptedNodeCount': 0}, 'allocationState': 'Steady', 'allocationStateTransitionTime': '2023-07-18T17:41:04.010000+00:00', 'errors': None, 'creationTime': '2023-07-18T17:40:58.750594+00:00', 'modifiedTime': '2023-07-18T17:41:05.734309+00:00', 'provisioningState': 'Succeeded', 'provisioningStateTransitionTime': None, 'scaleSettings': {'minNodeCount': 0, 'maxNodeCount': 3, 'nodeIdleTimeBeforeScaleDown': 'PT1800S'}, 'vmPriority': 'Dedicated', 'vmSize': 'STANDARD_D2_V2'}\n",
            "None\n"
          ]
        }
      ],
      "source": [
        "from azureml.core.compute import AmlCompute\n",
        "from azureml.core.compute import ComputeTarget\n",
        "from azureml.core import Workspace\n",
        "\n",
        "workspace = Workspace.from_config()\n",
        "\n",
        "name = \"win-compute\"\n",
        "\n",
        "compute_provisioning_config = AmlCompute.provisioning_configuration(\n",
        "   vm_size=\"STANDARD_D2_V2\",\n",
        "   min_nodes=0,\n",
        "   max_nodes=3)\n",
        "\n",
        "compute_create_payload = AmlCompute._build_create_payload(\n",
        "   compute_provisioning_config, workspace.location, workspace.subscription_id)\n",
        "compute_create_payload[\"properties\"][\"properties\"][\"osType\"] = 'Windows'\n",
        "compute_target = ComputeTarget._create_compute_target(\n",
        "   workspace, name, compute_create_payload, AmlCompute)\n",
        "compute_target.wait_for_completion(show_output=True, timeout_in_minutes=20)\n",
        "\n",
        "print(compute_target.get_status().serialize())\n",
        "print(compute_target.provisioning_errors)"
      ]
    }
  ],
  "metadata": {
    "kernel_info": {
      "name": "python310-sdkv2"
    },
    "kernelspec": {
      "display_name": "Python 3.10 - SDK v2",
      "language": "python",
      "name": "python310-sdkv2"
    },
    "language_info": {
      "codemirror_mode": {
        "name": "ipython",
        "version": 3
      },
      "file_extension": ".py",
      "mimetype": "text/x-python",
      "name": "python",
      "nbconvert_exporter": "python",
      "pygments_lexer": "ipython3",
      "version": "3.10.11"
    },
    "microsoft": {
      "host": {
        "AzureML": {
          "notebookHasBeenCompleted": true
        }
      },
      "ms_spell_check": {
        "ms_spell_check_language": "en"
      }
    },
    "nteract": {
      "version": "nteract-front-end@1.0.0"
    }
  },
  "nbformat": 4,
  "nbformat_minor": 2
}
